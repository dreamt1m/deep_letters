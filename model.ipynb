{
  "nbformat": 4,
  "nbformat_minor": 5,
  "metadata": {
    "kernelspec": {
      "display_name": "Python 3 (ipykernel)",
      "language": "python",
      "name": "python3"
    },
    "language_info": {
      "codemirror_mode": {
        "name": "ipython",
        "version": 3
      },
      "file_extension": ".py",
      "mimetype": "text/x-python",
      "name": "python",
      "nbconvert_exporter": "python",
      "pygments_lexer": "ipython3",
      "version": "3.7.12"
    },
    "colab": {
      "name": "model.ipynb",
      "provenance": [],
      "collapsed_sections": []
    }
  },
  "cells": [
    {
      "cell_type": "code",
      "metadata": {
        "id": "b171e4c8-0fe2-4865-adb8-30d050393471",
        "colab": {
          "base_uri": "https://localhost:8080/"
        },
        "outputId": "11ee9f6c-a579-4b61-c2c0-4db74d489af4"
      },
      "source": [
        "import os\n",
        "\n",
        "import numpy as np\n",
        "import cv2\n",
        "from tensorflow import keras\n",
        "from tensorflow.keras.models import Sequential\n",
        "from tensorflow.keras.layers import Convolution2D, MaxPooling2D, Dropout, Flatten, Dense\n",
        "from sklearn.model_selection import train_test_split\n",
        "from google.colab import drive\n",
        "\n",
        "drive.mount('/content/drive')"
      ],
      "id": "b171e4c8-0fe2-4865-adb8-30d050393471",
      "execution_count": null,
      "outputs": [
        {
          "output_type": "stream",
          "name": "stdout",
          "text": [
            "Drive already mounted at /content/drive; to attempt to forcibly remount, call drive.mount(\"/content/drive\", force_remount=True).\n"
          ]
        }
      ]
    },
    {
      "cell_type": "code",
      "metadata": {
        "id": "66facc21-0f12-4043-aca7-9dd55a8637d8"
      },
      "source": [
        "LETTERS = list(\"АБВГДЕЁЖЗИЙКЛМНОПРСТУФХЦЧШЩЪЫЬЭЮЯ\")\n",
        "SIZE = 68"
      ],
      "id": "66facc21-0f12-4043-aca7-9dd55a8637d8",
      "execution_count": null,
      "outputs": []
    },
    {
      "cell_type": "code",
      "metadata": {
        "id": "AFtu5OaJrIll"
      },
      "source": [
        "import zipfile    \t\n",
        "fantasy_zip = zipfile.ZipFile('/content/drive/MyDrive/dataset.zip')\n",
        "fantasy_zip.extractall('/content')\n",
        "fantasy_zip.close()"
      ],
      "id": "AFtu5OaJrIll",
      "execution_count": null,
      "outputs": []
    },
    {
      "cell_type": "code",
      "metadata": {
        "id": "6ddc4fbb-8ad6-4e89-a35e-d5eb7fe30df7"
      },
      "source": [
        "model = Sequential()\n",
        "model.add(Convolution2D(filters=64, kernel_SIZE=(5, 5), padding='valid', input_shape=(SIZE, SIZE, 1), activation='relu'))\n",
        "model.add(Convolution2D(filters=128, kernel_SIZE=(5, 5), activation='relu'))\n",
        "model.add(MaxPooling2D(pool_SIZE=(3, 3)))\n",
        "model.add(Dropout(0.25))\n",
        "model.add(Flatten())\n",
        "model.add(Dense(512, activation='relu'))\n",
        "model.add(Dropout(0.5))\n",
        "model.add(Dense(len(LETTERS), activation='softmax'))\n",
        "model.compile(loss='categorical_crossentropy', optimizer='adadelta', metrics=['accuracy'])"
      ],
      "id": "6ddc4fbb-8ad6-4e89-a35e-d5eb7fe30df7",
      "execution_count": null,
      "outputs": []
    },
    {
      "cell_type": "code",
      "metadata": {
        "id": "90dc91d0-47f8-4d68-bdb5-5d9eced5098b"
      },
      "source": [
        "# Change color space to gray, normalize value.\n",
        "def normalize(image):\n",
        "    image = cv2.cvtColor(image, cv2.COLOR_BGR2GRAY) / 255.0\n",
        "    image = cv2.reSIZE(image, (SIZE,SIZE), cv2.INTER_AREA)\n",
        "    return image\n",
        "\n",
        "\n",
        "x_train = []\n",
        "x_test = []\n",
        "y_train = []\n",
        "y_test = []\n",
        "\n",
        "path = \"/content/test (копия)\"\n",
        "for folder in os.listdir(path):\n",
        "    x_temp = []\n",
        "    y_temp = []\n",
        "    \n",
        "    for image in os.listdir(f'{path}/{folder}'):\n",
        "        x_temp.append(normalize(cv2.imread(f'{path}/{folder}/{image}')))\n",
        "        y_temp.append(LETTERS.index(folder))\n",
        "    \n",
        "    # Devide dataset to train and test samples.\n",
        "    x_train_temp, x_test_temp, y_train_temp, y_test_temp = train_test_split(x_temp, y_temp, stratify = y_temp, test_size = 0.2)\n",
        "    \n",
        "    x_train.extend(x_train_temp)\n",
        "    x_test.extend(x_test_temp)\n",
        "    y_train.extend(y_train_temp)\n",
        "    y_test.extend(y_test_temp)\n",
        "\n",
        "# Shape data to input form of model.\n",
        "x_train = np.array(x_train)\n",
        "x_train = np.reshape(x_train, (x_train.shape[0], SIZE, SIZE, 1))\n",
        "x_test = np.array(x_test)\n",
        "x_test = np.reshape(x_test, (x_test.shape[0], SIZE, SIZE, 1))\n",
        "y_train = np.array(y_train)\n",
        "y_test = np.array(y_test)\n",
        "\n",
        "x_train_cat = keras.utils.to_categorical(y_train, len(LETTERS))\n",
        "y_test_cat = keras.utils.to_categorical(y_test, len(LETTERS))\n",
        "\n",
        "# Save formed dataset to file (to retrain the model later).\n",
        "np.savez_compressed('/content/drive/MyDrive/prepared_dataset.npz',\n",
        "                    x_train=x_train, x_train_cat=x_train_cat, x_test=x_test, y_test_cat=y_test_cat)"
      ],
      "id": "90dc91d0-47f8-4d68-bdb5-5d9eced5098b",
      "execution_count": null,
      "outputs": []
    },
    {
      "cell_type": "code",
      "metadata": {
        "id": "l6aqwCjm2nk6"
      },
      "source": [
        "dataset = np.load('/content/drive/MyDrive/prepared_dataset.npz')\n",
        "x_train = dataset['x_train']\n",
        "x_train_cat = dataset['x_train_cat']"
      ],
      "id": "l6aqwCjm2nk6",
      "execution_count": null,
      "outputs": []
    },
    {
      "cell_type": "code",
      "metadata": {
        "id": "y-R1M6fkYLuB"
      },
      "source": [
        "model.fit(x_train, x_train_cat, batch_SIZE=128, epochs=100)"
      ],
      "id": "y-R1M6fkYLuB",
      "execution_count": null,
      "outputs": []
    },
    {
      "cell_type": "code",
      "metadata": {
        "id": "VDh_zrdHcC2C"
      },
      "source": [
        "x_test = dataset['x_test']\n",
        "y_test_cat = dataset['y_test_cat']\n",
        "\n",
        "results = model.evaluate(x_test, y_test_cat, batch_SIZE=128)\n",
        "print('test loss, test acc:', results)"
      ],
      "id": "VDh_zrdHcC2C",
      "execution_count": null,
      "outputs": []
    },
    {
      "cell_type": "code",
      "metadata": {
        "id": "gf0gkuvVctII"
      },
      "source": [
        "model.save('/content/drive/MyDrive/exp_model.h5')"
      ],
      "id": "gf0gkuvVctII",
      "execution_count": null,
      "outputs": []
    }
  ]
}